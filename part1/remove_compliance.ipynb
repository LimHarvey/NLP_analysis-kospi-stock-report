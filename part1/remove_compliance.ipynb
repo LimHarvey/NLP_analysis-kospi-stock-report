{
 "cells": [
  {
   "cell_type": "code",
   "execution_count": null,
   "id": "b25177c9",
   "metadata": {},
   "outputs": [],
   "source": [
    "대신증권       10790 \n",
    "삼성증권        9771\n",
    "신한금융투자      7792\n",
    "이베스트증권      7636\n",
    "유진투자증권      7499\n",
    "SK증권        7103\n",
    "하나금융투자      6342\n",
    "하이투자증권      6108\n",
    "유안타증권       5748\n",
    "교보증권        5634\n",
    "메리츠종금증권     5590\n",
    "현대증권        5464\n",
    "NH투자증권      5236\n",
    "키움증권        5163\n",
    "한국투자증권      4503\n",
    "IBK투자증권     4155\n",
    "한화투자증권      3916\n",
    "미래에셋대우      3728\n",
    "미래에셋증권      3542\n",
    "KB증권        3447\n",
    "KTB투자증권     3291\n",
    "한투증권        3258\n",
    "신한금융        3202\n",
    "대우증권        3097\n",
    "현대차투자증권     2991\n",
    "메리츠증권       2546\n",
    "우리증권        2463\n",
    "KDB대우증권     2446\n",
    "하나대투증권      2338\n",
    "이트레이드증권     2272\n",
    "동양증권        2079\n",
    "유진증권        1905\n",
    "한화증권        1890\n",
    "HMC투자증권     1701\n",
    "하이증권        1610\n",
    "NH증권        1496"
   ]
  },
  {
   "cell_type": "code",
   "execution_count": null,
   "id": "0daf1245",
   "metadata": {},
   "outputs": [],
   "source": [
    "신한금융(~14.6)\n",
    "-  이 자료에 게재된\n"
   ]
  },
  {
   "cell_type": "code",
   "execution_count": null,
   "id": "06504996",
   "metadata": {},
   "outputs": [],
   "source": [
    "하나금융투자\n",
    "\n",
    "-투자등급 관련사항"
   ]
  },
  {
   "cell_type": "code",
   "execution_count": null,
   "id": "888cc45b",
   "metadata": {},
   "outputs": [],
   "source": [
    "하이투자증권\n",
    "\n",
    "- 당 보고서 공표일 "
   ]
  },
  {
   "cell_type": "code",
   "execution_count": null,
   "id": "3962c5a8",
   "metadata": {},
   "outputs": [],
   "source": [
    "유안타증권\n",
    "- 이 자료에 게재된"
   ]
  },
  {
   "cell_type": "code",
   "execution_count": null,
   "id": "2f1e61b7",
   "metadata": {},
   "outputs": [],
   "source": [
    "현대증권 (11~17)\n",
    "-투자자 고지사항 "
   ]
  },
  {
   "cell_type": "code",
   "execution_count": null,
   "id": "325c4542",
   "metadata": {},
   "outputs": [],
   "source": [
    "NH투자증권\n",
    "-종목 투자등급"
   ]
  },
  {
   "cell_type": "code",
   "execution_count": null,
   "id": "88dc7828",
   "metadata": {},
   "outputs": [],
   "source": [
    "미래에셋대우(16~)\n",
    "-투자의견 분류"
   ]
  },
  {
   "cell_type": "code",
   "execution_count": null,
   "id": "632791c3",
   "metadata": {},
   "outputs": [],
   "source": [
    "미래에셋증권(~16)\n",
    "-Recommendations"
   ]
  },
  {
   "cell_type": "code",
   "execution_count": null,
   "id": "4a694c3a",
   "metadata": {},
   "outputs": [],
   "source": [
    "KB증권\n",
    "- 고지 사항 or 고지 사항"
   ]
  },
  {
   "cell_type": "code",
   "execution_count": null,
   "id": "19cba838",
   "metadata": {},
   "outputs": [],
   "source": [
    "하이증권\n",
    "-당 보고서 공표일"
   ]
  },
  {
   "cell_type": "code",
   "execution_count": null,
   "id": "1339906c",
   "metadata": {},
   "outputs": [],
   "source": [
    "나머지\n",
    "- Compliance"
   ]
  }
 ],
 "metadata": {
  "kernelspec": {
   "display_name": "Python 3",
   "language": "python",
   "name": "python3"
  },
  "language_info": {
   "codemirror_mode": {
    "name": "ipython",
    "version": 3
   },
   "file_extension": ".py",
   "mimetype": "text/x-python",
   "name": "python",
   "nbconvert_exporter": "python",
   "pygments_lexer": "ipython3",
   "version": "3.8.8"
  }
 },
 "nbformat": 4,
 "nbformat_minor": 5
}

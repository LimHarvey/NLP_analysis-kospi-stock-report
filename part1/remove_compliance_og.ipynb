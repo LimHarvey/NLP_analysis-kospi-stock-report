{
 "cells": [
  {
   "cell_type": "code",
   "execution_count": null,
   "id": "b2c8dace",
   "metadata": {},
   "outputs": [],
   "source": [
    "대신증권       10790\n",
    "삼성증권        9771\n",
    "신한금융투자      7792\n",
    "이베스트증권      7636\n",
    "유진투자증권      7499\n",
    "SK증권        7103\n",
    "하나금융투자      6342\n",
    "하이투자증권      6108\n",
    "유안타증권       5748\n",
    "교보증권        5634\n",
    "메리츠종금증권     5590\n",
    "현대증권        5464\n",
    "NH투자증권      5236\n",
    "키움증권        5163\n",
    "한국투자증권      4503\n",
    "IBK투자증권     4155\n",
    "한화투자증권      3916\n",
    "미래에셋대우      3728\n",
    "미래에셋증권      3542\n",
    "KB증권        3447\n",
    "KTB투자증권     3291\n",
    "한투증권        3258\n",
    "신한금융        3202\n",
    "대우증권        3097\n",
    "현대차투자증권     2991\n",
    "메리츠증권       2546\n",
    "우리증권        2463\n",
    "KDB대우증권     2446\n",
    "하나대투증권      2338\n",
    "이트레이드증권     2272\n",
    "동양증권        2079\n",
    "유진증권        1905\n",
    "한화증권        1890\n",
    "HMC투자증권     1701\n",
    "하이증권        1610\n",
    "NH증권        1496\n",
    "한양증권         478\n",
    "우리투자증권       459\n",
    "NH농협증권       211\n",
    "카카오페이증권       88\n",
    "UBS           59\n",
    "노무라           56\n",
    "HSBC          39\n",
    "CGM           39\n",
    "맥쿼리           34\n",
    "RBS           29\n",
    "모건스탠리         22\n",
    "골드만삭스         19\n",
    "CLSA          18\n",
    "도이치           15\n",
    "다이와           15\n",
    "JP모건          12\n",
    "메릴린치          11\n",
    "파리바            9\n",
    "CSFB           7\n",
    "Name: 제공출처, dtype: int64"
   ]
  },
  {
   "cell_type": "code",
   "execution_count": null,
   "id": "82241268",
   "metadata": {},
   "outputs": [],
   "source": []
  },
  {
   "cell_type": "code",
   "execution_count": null,
   "id": "6ad4d72e",
   "metadata": {},
   "outputs": [],
   "source": [
    "대신증권\n",
    "\n",
    "- [Compliance Notice]\n",
    "\n",
    "\n",
    "-[ Compliance Notice ]"
   ]
  },
  {
   "cell_type": "code",
   "execution_count": null,
   "id": "52c06d87",
   "metadata": {},
   "outputs": [],
   "source": [
    "삼성증권\n",
    "\n",
    "-Compliance notice\n",
    "- Compliance Notice"
   ]
  },
  {
   "cell_type": "code",
   "execution_count": null,
   "id": "906fb684",
   "metadata": {},
   "outputs": [],
   "source": [
    "신한금융투자(14~)\n",
    "- Compliance Notice\n",
    "- Compliance Notice"
   ]
  },
  {
   "cell_type": "code",
   "execution_count": null,
   "id": "72191210",
   "metadata": {},
   "outputs": [],
   "source": [
    "신한금융(~14.6)\n",
    "\n",
    "투자등급 (2011년 7월 25일부터 적용) : 매수 ; +15% 이상, Trading BUY : 0~15%, 중립 ; -15~0%, 축소 ; -15% 이하\n",
    "이 자료에 게재된 내용들은 본인의 의견을 정확하게 반영하고 있으며, 외부의 부당한 압력이나 간섭없이 작성되었음을 확인합니다.(작성자 : 하준두) 자료 제공일 현\n",
    "재 당사는 상기 회사가 발행한 주식을 1% 이상 보유하고 있지 않습니다. 자료 제공일 현재 당사는 지난 1년간 상기 회사의 최초 증권시장 상장시 대표 주관사로 참여\n",
    "한 적이 없습니다. 자료제공일 현재 조사분석 담당자는 상기회사가 발행한 주식 및 주식관련사채에 대하여 규정상 고지하여야 할 재산적 이해관계가 없으며, 추천의견\n",
    "을 제시함에 있어 어떠한 금전적 보상과도 연계되어 있지 않습니다. 당자료는 상기 회사 및 상기회사의 유가증권에 대한 조사분석담당자의 의견을 정확히 반영하고\n",
    "있으나 이는 자료제공일 현재 시점에서의 의견 및 추정치로서 실적치와 오차가 발생할 수 있으며, 투자를 유도할 목적이 아니라 투자자의 투자판단에 참고가 되는 정\n",
    "보제공을 목적으로 하고 있습니다. 따라서 종목의 선택이나 투자의 최종결정은 투자자 자신의 판단으로 하시기 바랍니다. 본 조사분석자료는 당사 고객에 한하여 배포\n",
    "되는 자료로 어떠한 경우에도 당사의 허락없이 복사, 대여, 재배포될 수 없습니다. \n",
    "\n",
    "- 부록"
   ]
  },
  {
   "cell_type": "code",
   "execution_count": null,
   "id": "7444b6fa",
   "metadata": {},
   "outputs": [],
   "source": [
    "이베스트증권\n",
    "-Compliance Notice\n"
   ]
  },
  {
   "cell_type": "code",
   "execution_count": null,
   "id": "ecc05ac6",
   "metadata": {},
   "outputs": [],
   "source": [
    "sk증권"
   ]
  },
  {
   "cell_type": "code",
   "execution_count": null,
   "id": "abb679fc",
   "metadata": {},
   "outputs": [],
   "source": [
    "하나금융투자\n",
    "-투자등급 관련사항 다음에 Compliance Notice"
   ]
  },
  {
   "cell_type": "code",
   "execution_count": null,
   "id": "f23d168e",
   "metadata": {},
   "outputs": [],
   "source": [
    "하이투자증권\n",
    "\n",
    "당 보고서 공표일 기준으로 해당 기업과 관련하여, ▶ 당사는 6월 30일 현재 디에이치피코리아의 주식을 4.66% 보유하고 있습니다. ▶ 금융투자분석사와 그 배우자는 해당 기업의 주식을 보유하고 있지 않습니다. ▶ 당 보고서는 기관투자가 및 제 3자에게 E-mail등을 통하여 사전에 배포된 사실이 없습니다. ▶ 보호예수기간: 2010년 12월 3일 ∼ 2014년 11월 11일\n",
    "▶ 하이제1호기업인수목적(주)와의 합병에 의하여 상장한 기업으로 코스닥 상장 규정에 의한 의무발행자료임을 고지합니다. ▶ 당 보고서에 게재된 내용들은 본인의 의견을 정확하게 반영하고 있으며, 외부의 부당한 압력이나 간섭없이 작성되었음을 확인합니다. (작성자 : 이상헌 )\n",
    "본 분석자료는 투자자의 증권투자를 돕기 위한 참고자료이며, 따라서, 본 자료에 의한 투자자의 투자결과에 대해 어떠한 목적의 증빙자료로도 사용될 수 없으며, 어떠한 경우에도 작성자 및 당사의 허가 없이 전재, 복사 또는 대여될 수 없습니다. 무단전재 등\n",
    "으로 인한 분쟁발생시 법적 책임이 있음을 주지하시기 바랍니다. 1. 종목추천 투자등급 (추천일기준 종가대비 3등급) 종목투자의견은 향후 6개월간 추천일 종가대비 해당종목의 예상 목표수익률을 의미함. (2014년 5월 12일부터 적용) -Buy(매 수): 추천일 종가대비 +15%이상 -Hold(보유): 추천일 종가대비 -15% ~ 15% 내외 등락 -Sell(매도): 추천일 종가대비 -15%이상\n",
    "2.산업추천 투자등급 (시가총액기준 산업별 시장비중대비 보유비중의 변화를 추천하는 것임) - Overweight(비중확대), - Neutral (중립), - Underweight ("
   ]
  },
  {
   "cell_type": "code",
   "execution_count": null,
   "id": "7ab8bbe7",
   "metadata": {},
   "outputs": [],
   "source": []
  },
  {
   "cell_type": "code",
   "execution_count": null,
   "id": "bcab06ce",
   "metadata": {},
   "outputs": [],
   "source": [
    "유안타증권 ?"
   ]
  },
  {
   "cell_type": "code",
   "execution_count": null,
   "id": "54b178a7",
   "metadata": {},
   "outputs": [],
   "source": [
    "교보증권"
   ]
  },
  {
   "cell_type": "code",
   "execution_count": null,
   "id": "d7748567",
   "metadata": {},
   "outputs": [],
   "source": [
    "메리츠종금증권"
   ]
  },
  {
   "cell_type": "code",
   "execution_count": null,
   "id": "4d4ffb0a",
   "metadata": {},
   "outputs": [],
   "source": [
    "현대증권 (11~17)\n",
    "-투자자 고지사항 \n",
    "\n",
    "\n",
    "- 투자의견 분류: 산업: Overweight(10%이상), Neutral(-10~10%), Underweight(-10%이상) / 기업: Strong BUY(30%이상), BUY(10~30%), Marketperform(-10~10%), Underperform(-10%이상)\n",
    " 등급: Strong BUY = 4, BUY = 3, Marketperform = 2, Underperform = 1, Blackout/Universe탈락 = 0 ( 주가-, 적정주가S, 등급 -)\n",
    " 이 보고서는 고객들에게 투자에 관한 정보를 제공할 목적으로 작성된 것이며 계약의 청약 또는 청약의 유인을 구성하지 않습니다. 이 보고서는 당사가 신뢰할 만하다고 판단하는 자료와 정보에 근거하여 해당일\n",
    "시점의 전문적인 판단을 반영한 의견이나 당사가 그 정확성이나 완전성을 보장하는 것은 아니며 통지 없이 의견이 변경될 수 있습니다. 개별 투자는 고객의 판단에 의거하여 이루어져야 하며, 이 보고서는 여하한\n",
    "형태로도 고객의 투자판단 및 그 결과에 대한 법적 책임의 근거가 되지 않습니다. 이 보고서의 저작권은 당사에 있으므로 당사의 동의 없이 무단 복제, 배포 및 변형할 수 없습니다. 이 보고서는 학술 목적으로 작\n",
    "성된 것이 아니므로, 학술적인 목적으로 이용하려는 경우에는 당사에 사전 통보하여 동의를 얻으시기 바랍니다. "
   ]
  },
  {
   "cell_type": "code",
   "execution_count": null,
   "id": "637c354f",
   "metadata": {},
   "outputs": [],
   "source": [
    "현대차투자증권(17~)"
   ]
  },
  {
   "cell_type": "code",
   "execution_count": null,
   "id": "f37ef1ee",
   "metadata": {},
   "outputs": [],
   "source": [
    "NH투자증권\n",
    "-종목 투자등급(Stock Ratings) 및 투자등급 분포 고지 후 Compliance Notice\n",
    "\n"
   ]
  },
  {
   "cell_type": "code",
   "execution_count": null,
   "id": "1d06d4cb",
   "metadata": {},
   "outputs": [],
   "source": [
    "키움증권\n",
    "- Compliance Notice!!!\n",
    "\n",
    "-당사는 2월 24일 현재 ‘한화케미칼’ 발행주식을 1% 이상 보유하고 있지 않습니다.\n",
    " 당사는 동 자료를 기관투자가 또는 제3자에게 사전 제공한 사실이 없습니다.\n",
    " 동 자료의 금융투자분석사는 자료 작성일 현재 동 자료상에 언급된 기업들의 금융투자상품 및 권리를 보유하고 있지 않습니다.\n",
    " 동 자료에 게시된 내용들은 본인의 의견을 정확하게 반영하고 있으며, 외부의 부당한 압력이나 간섭없이 작성되었음을 확인합니다"
   ]
  },
  {
   "cell_type": "code",
   "execution_count": null,
   "id": "04f2914b",
   "metadata": {},
   "outputs": [],
   "source": []
  },
  {
   "cell_type": "code",
   "execution_count": null,
   "id": "64e1ef3e",
   "metadata": {},
   "outputs": [],
   "source": [
    "한국투자증권"
   ]
  },
  {
   "cell_type": "code",
   "execution_count": null,
   "id": "01566ad8",
   "metadata": {},
   "outputs": [],
   "source": [
    "IBK투자증권"
   ]
  },
  {
   "cell_type": "code",
   "execution_count": null,
   "id": "c9c545dd",
   "metadata": {},
   "outputs": [],
   "source": [
    "한화투자증권"
   ]
  },
  {
   "cell_type": "code",
   "execution_count": null,
   "id": "d46015d2",
   "metadata": {},
   "outputs": [],
   "source": [
    "미래에셋대우(16~)\n",
    "\n",
    "-투자의견 분류 및 적용기준 "
   ]
  },
  {
   "cell_type": "code",
   "execution_count": null,
   "id": "c33e1cd0",
   "metadata": {},
   "outputs": [],
   "source": [
    "미래에셋증권(~16)\n",
    "\n",
    "-Recommendations"
   ]
  },
  {
   "cell_type": "code",
   "execution_count": null,
   "id": "fa37c6cd",
   "metadata": {},
   "outputs": [],
   "source": [
    "KB증권\n",
    "- 고지 사항 or 고지 사항\n",
    "\n"
   ]
  },
  {
   "cell_type": "code",
   "execution_count": null,
   "id": "25b7a058",
   "metadata": {},
   "outputs": [],
   "source": [
    "HMC투자증권\n",
    "-"
   ]
  },
  {
   "cell_type": "code",
   "execution_count": null,
   "id": "357b77de",
   "metadata": {},
   "outputs": [],
   "source": [
    "하이증권\n",
    "-당 보고서 공표일 기준으로 해당 기업과 관련하여, ▶ 회사는 해당 종목을 1%이상 보유하고 있지 않습니다. ▶ 금융투자분석사와 그 배우자는 해당 기업의 주식을 보유하고 있지 않습니다. ▶ 당 보고서는 기관투자가 및 제 3자에게 E-mail등을 통하여 사전에 배포된 사실이 없습니다. ▶ 회사는 6개월간 해당 기업의 유가증권 발행과 관련 주관사로 참여하지 않았습니다. ▶ 당 보고서에 게재된 내용들은 본인의 의견을 정확하게 반영하고 있으며, 외부의 부당한 압력이나 간섭없이 작성되었음을 확인합니다. (작성자 : 이상헌 )\n",
    "본 분석자료는 투자자의 증권투자를 돕기 위한 참고자료이며, 따라서, 본 자료에 의한 투자자의 투자결과에 대해 어떠한 목적의 증빙자료로도 사용될 수 없으며, 어떠한 경우에도 작성자 및 당사의 허가 없이 전재, 복사 또는 대여될 수 없습니다. 무단전재 등\n",
    "으로 인한 분쟁발생시 법적 책임이 있음을 주지하시기 바랍니다. 1. 종목추천 투자등급 (추천일기준 종가대비 3등급) 종목투자의견은 향후 6개월간 추천일 종가대비 해당종목의 예상 목표수익률을 의미함. (2014년 5월 12일부터 적용) -Buy(매 수): 추천일 종가대비 +15%이상 -Hold(보유): 추천일 종가대비 -15% ~ 15% 내외 등락 -Sell(매도): 추천일 종가대비 -15%이상\n",
    "2.산업추천 투자등급 (시가총액기준 산업별 시장비중대비 "
   ]
  },
  {
   "cell_type": "code",
   "execution_count": null,
   "id": "6bc6d999",
   "metadata": {},
   "outputs": [],
   "source": [
    "NH증권\n",
    "-Compliance Notice"
   ]
  },
  {
   "cell_type": "code",
   "execution_count": null,
   "id": "8b829545",
   "metadata": {},
   "outputs": [],
   "source": [
    "한양증권"
   ]
  }
 ],
 "metadata": {
  "kernelspec": {
   "display_name": "Python 3",
   "language": "python",
   "name": "python3"
  },
  "language_info": {
   "codemirror_mode": {
    "name": "ipython",
    "version": 3
   },
   "file_extension": ".py",
   "mimetype": "text/x-python",
   "name": "python",
   "nbconvert_exporter": "python",
   "pygments_lexer": "ipython3",
   "version": "3.8.8"
  }
 },
 "nbformat": 4,
 "nbformat_minor": 5
}
